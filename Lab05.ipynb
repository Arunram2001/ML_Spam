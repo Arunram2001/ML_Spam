{
 "cells": [
  {
   "cell_type": "markdown",
   "metadata": {},
   "source": [
    "<h1>LAB 05</h1>"
   ]
  },
  {
   "cell_type": "code",
   "execution_count": 1,
   "metadata": {},
   "outputs": [],
   "source": [
    "import pandas as pd \n",
    "import re\n",
    "import random\n",
    "from wordcloud import WordCloud as wc\n",
    "import matplotlib.pyplot as plt \n",
    "import math\n",
    "from IPython.display import clear_output"
   ]
  },
  {
   "cell_type": "markdown",
   "metadata": {},
   "source": [
    "<h3>1.  Read the dataset into a dataframe and explore</h3>"
   ]
  },
  {
   "cell_type": "code",
   "execution_count": 2,
   "metadata": {},
   "outputs": [],
   "source": [
    "df = pd.read_csv(\"spam.csv\", encoding=\"Latin-1\")"
   ]
  },
  {
   "cell_type": "code",
   "execution_count": 3,
   "metadata": {},
   "outputs": [
    {
     "data": {
      "text/html": [
       "<div>\n",
       "<style scoped>\n",
       "    .dataframe tbody tr th:only-of-type {\n",
       "        vertical-align: middle;\n",
       "    }\n",
       "\n",
       "    .dataframe tbody tr th {\n",
       "        vertical-align: top;\n",
       "    }\n",
       "\n",
       "    .dataframe thead th {\n",
       "        text-align: right;\n",
       "    }\n",
       "</style>\n",
       "<table border=\"1\" class=\"dataframe\">\n",
       "  <thead>\n",
       "    <tr style=\"text-align: right;\">\n",
       "      <th></th>\n",
       "      <th>v1</th>\n",
       "      <th>v2</th>\n",
       "      <th>Unnamed: 2</th>\n",
       "      <th>Unnamed: 3</th>\n",
       "      <th>Unnamed: 4</th>\n",
       "    </tr>\n",
       "  </thead>\n",
       "  <tbody>\n",
       "    <tr>\n",
       "      <th>0</th>\n",
       "      <td>ham</td>\n",
       "      <td>Go until jurong point, crazy.. Available only ...</td>\n",
       "      <td>NaN</td>\n",
       "      <td>NaN</td>\n",
       "      <td>NaN</td>\n",
       "    </tr>\n",
       "    <tr>\n",
       "      <th>1</th>\n",
       "      <td>ham</td>\n",
       "      <td>Ok lar... Joking wif u oni...</td>\n",
       "      <td>NaN</td>\n",
       "      <td>NaN</td>\n",
       "      <td>NaN</td>\n",
       "    </tr>\n",
       "    <tr>\n",
       "      <th>2</th>\n",
       "      <td>spam</td>\n",
       "      <td>Free entry in 2 a wkly comp to win FA Cup fina...</td>\n",
       "      <td>NaN</td>\n",
       "      <td>NaN</td>\n",
       "      <td>NaN</td>\n",
       "    </tr>\n",
       "    <tr>\n",
       "      <th>3</th>\n",
       "      <td>ham</td>\n",
       "      <td>U dun say so early hor... U c already then say...</td>\n",
       "      <td>NaN</td>\n",
       "      <td>NaN</td>\n",
       "      <td>NaN</td>\n",
       "    </tr>\n",
       "    <tr>\n",
       "      <th>4</th>\n",
       "      <td>ham</td>\n",
       "      <td>Nah I don't think he goes to usf, he lives aro...</td>\n",
       "      <td>NaN</td>\n",
       "      <td>NaN</td>\n",
       "      <td>NaN</td>\n",
       "    </tr>\n",
       "  </tbody>\n",
       "</table>\n",
       "</div>"
      ],
      "text/plain": [
       "     v1                                                 v2 Unnamed: 2  \\\n",
       "0   ham  Go until jurong point, crazy.. Available only ...        NaN   \n",
       "1   ham                      Ok lar... Joking wif u oni...        NaN   \n",
       "2  spam  Free entry in 2 a wkly comp to win FA Cup fina...        NaN   \n",
       "3   ham  U dun say so early hor... U c already then say...        NaN   \n",
       "4   ham  Nah I don't think he goes to usf, he lives aro...        NaN   \n",
       "\n",
       "  Unnamed: 3 Unnamed: 4  \n",
       "0        NaN        NaN  \n",
       "1        NaN        NaN  \n",
       "2        NaN        NaN  \n",
       "3        NaN        NaN  \n",
       "4        NaN        NaN  "
      ]
     },
     "execution_count": 3,
     "metadata": {},
     "output_type": "execute_result"
    }
   ],
   "source": [
    "df.head(5)"
   ]
  },
  {
   "cell_type": "code",
   "execution_count": 4,
   "metadata": {},
   "outputs": [],
   "source": [
    "del df['Unnamed: 2']\n",
    "del df['Unnamed: 3']\n",
    "del df['Unnamed: 4']"
   ]
  },
  {
   "cell_type": "code",
   "execution_count": 5,
   "metadata": {},
   "outputs": [],
   "source": [
    "df.columns = ['Category', 'Message']"
   ]
  },
  {
   "cell_type": "code",
   "execution_count": 6,
   "metadata": {},
   "outputs": [
    {
     "data": {
      "text/html": [
       "<div>\n",
       "<style scoped>\n",
       "    .dataframe tbody tr th:only-of-type {\n",
       "        vertical-align: middle;\n",
       "    }\n",
       "\n",
       "    .dataframe tbody tr th {\n",
       "        vertical-align: top;\n",
       "    }\n",
       "\n",
       "    .dataframe thead th {\n",
       "        text-align: right;\n",
       "    }\n",
       "</style>\n",
       "<table border=\"1\" class=\"dataframe\">\n",
       "  <thead>\n",
       "    <tr style=\"text-align: right;\">\n",
       "      <th></th>\n",
       "      <th>Category</th>\n",
       "      <th>Message</th>\n",
       "    </tr>\n",
       "  </thead>\n",
       "  <tbody>\n",
       "    <tr>\n",
       "      <th>0</th>\n",
       "      <td>ham</td>\n",
       "      <td>Go until jurong point, crazy.. Available only ...</td>\n",
       "    </tr>\n",
       "    <tr>\n",
       "      <th>1</th>\n",
       "      <td>ham</td>\n",
       "      <td>Ok lar... Joking wif u oni...</td>\n",
       "    </tr>\n",
       "    <tr>\n",
       "      <th>2</th>\n",
       "      <td>spam</td>\n",
       "      <td>Free entry in 2 a wkly comp to win FA Cup fina...</td>\n",
       "    </tr>\n",
       "    <tr>\n",
       "      <th>3</th>\n",
       "      <td>ham</td>\n",
       "      <td>U dun say so early hor... U c already then say...</td>\n",
       "    </tr>\n",
       "    <tr>\n",
       "      <th>4</th>\n",
       "      <td>ham</td>\n",
       "      <td>Nah I don't think he goes to usf, he lives aro...</td>\n",
       "    </tr>\n",
       "  </tbody>\n",
       "</table>\n",
       "</div>"
      ],
      "text/plain": [
       "  Category                                            Message\n",
       "0      ham  Go until jurong point, crazy.. Available only ...\n",
       "1      ham                      Ok lar... Joking wif u oni...\n",
       "2     spam  Free entry in 2 a wkly comp to win FA Cup fina...\n",
       "3      ham  U dun say so early hor... U c already then say...\n",
       "4      ham  Nah I don't think he goes to usf, he lives aro..."
      ]
     },
     "execution_count": 6,
     "metadata": {},
     "output_type": "execute_result"
    }
   ],
   "source": [
    "df.head(5)"
   ]
  },
  {
   "cell_type": "markdown",
   "metadata": {},
   "source": [
    "<h3>2. Clean the data</h3>"
   ]
  },
  {
   "cell_type": "code",
   "execution_count": 7,
   "metadata": {},
   "outputs": [],
   "source": [
    "clean = df.replace(to_replace ='[^A-Za-z\" \"]', value = \"\", regex = True)\n",
    "clean['Message'] = clean['Message'].apply(lambda x: x.lower())"
   ]
  },
  {
   "cell_type": "code",
   "execution_count": 8,
   "metadata": {},
   "outputs": [
    {
     "data": {
      "text/html": [
       "<div>\n",
       "<style scoped>\n",
       "    .dataframe tbody tr th:only-of-type {\n",
       "        vertical-align: middle;\n",
       "    }\n",
       "\n",
       "    .dataframe tbody tr th {\n",
       "        vertical-align: top;\n",
       "    }\n",
       "\n",
       "    .dataframe thead th {\n",
       "        text-align: right;\n",
       "    }\n",
       "</style>\n",
       "<table border=\"1\" class=\"dataframe\">\n",
       "  <thead>\n",
       "    <tr style=\"text-align: right;\">\n",
       "      <th></th>\n",
       "      <th>Category</th>\n",
       "      <th>Message</th>\n",
       "    </tr>\n",
       "  </thead>\n",
       "  <tbody>\n",
       "    <tr>\n",
       "      <th>0</th>\n",
       "      <td>ham</td>\n",
       "      <td>go until jurong point crazy available only in ...</td>\n",
       "    </tr>\n",
       "    <tr>\n",
       "      <th>1</th>\n",
       "      <td>ham</td>\n",
       "      <td>ok lar joking wif u oni</td>\n",
       "    </tr>\n",
       "    <tr>\n",
       "      <th>2</th>\n",
       "      <td>spam</td>\n",
       "      <td>free entry in  a wkly comp to win fa cup final...</td>\n",
       "    </tr>\n",
       "    <tr>\n",
       "      <th>3</th>\n",
       "      <td>ham</td>\n",
       "      <td>u dun say so early hor u c already then say</td>\n",
       "    </tr>\n",
       "    <tr>\n",
       "      <th>4</th>\n",
       "      <td>ham</td>\n",
       "      <td>nah i dont think he goes to usf he lives aroun...</td>\n",
       "    </tr>\n",
       "    <tr>\n",
       "      <th>...</th>\n",
       "      <td>...</td>\n",
       "      <td>...</td>\n",
       "    </tr>\n",
       "    <tr>\n",
       "      <th>5567</th>\n",
       "      <td>spam</td>\n",
       "      <td>this is the nd time we have tried  contact u u...</td>\n",
       "    </tr>\n",
       "    <tr>\n",
       "      <th>5568</th>\n",
       "      <td>ham</td>\n",
       "      <td>will  b going to esplanade fr home</td>\n",
       "    </tr>\n",
       "    <tr>\n",
       "      <th>5569</th>\n",
       "      <td>ham</td>\n",
       "      <td>pity  was in mood for that soany other suggest...</td>\n",
       "    </tr>\n",
       "    <tr>\n",
       "      <th>5570</th>\n",
       "      <td>ham</td>\n",
       "      <td>the guy did some bitching but i acted like id ...</td>\n",
       "    </tr>\n",
       "    <tr>\n",
       "      <th>5571</th>\n",
       "      <td>ham</td>\n",
       "      <td>rofl its true to its name</td>\n",
       "    </tr>\n",
       "  </tbody>\n",
       "</table>\n",
       "<p>5572 rows × 2 columns</p>\n",
       "</div>"
      ],
      "text/plain": [
       "     Category                                            Message\n",
       "0         ham  go until jurong point crazy available only in ...\n",
       "1         ham                            ok lar joking wif u oni\n",
       "2        spam  free entry in  a wkly comp to win fa cup final...\n",
       "3         ham        u dun say so early hor u c already then say\n",
       "4         ham  nah i dont think he goes to usf he lives aroun...\n",
       "...       ...                                                ...\n",
       "5567     spam  this is the nd time we have tried  contact u u...\n",
       "5568      ham                 will  b going to esplanade fr home\n",
       "5569      ham  pity  was in mood for that soany other suggest...\n",
       "5570      ham  the guy did some bitching but i acted like id ...\n",
       "5571      ham                          rofl its true to its name\n",
       "\n",
       "[5572 rows x 2 columns]"
      ]
     },
     "execution_count": 8,
     "metadata": {},
     "output_type": "execute_result"
    }
   ],
   "source": [
    "clean\n"
   ]
  },
  {
   "cell_type": "markdown",
   "metadata": {},
   "source": [
    "<h3>3. Split the Data</h3>"
   ]
  },
  {
   "cell_type": "code",
   "execution_count": 9,
   "metadata": {},
   "outputs": [
    {
     "data": {
      "text/html": [
       "<div>\n",
       "<style scoped>\n",
       "    .dataframe tbody tr th:only-of-type {\n",
       "        vertical-align: middle;\n",
       "    }\n",
       "\n",
       "    .dataframe tbody tr th {\n",
       "        vertical-align: top;\n",
       "    }\n",
       "\n",
       "    .dataframe thead th {\n",
       "        text-align: right;\n",
       "    }\n",
       "</style>\n",
       "<table border=\"1\" class=\"dataframe\">\n",
       "  <thead>\n",
       "    <tr style=\"text-align: right;\">\n",
       "      <th></th>\n",
       "      <th>Category</th>\n",
       "      <th>Message</th>\n",
       "    </tr>\n",
       "  </thead>\n",
       "  <tbody>\n",
       "    <tr>\n",
       "      <th>0</th>\n",
       "      <td>ham</td>\n",
       "      <td>go until jurong point crazy available only in ...</td>\n",
       "    </tr>\n",
       "    <tr>\n",
       "      <th>2</th>\n",
       "      <td>spam</td>\n",
       "      <td>free entry in  a wkly comp to win fa cup final...</td>\n",
       "    </tr>\n",
       "    <tr>\n",
       "      <th>14</th>\n",
       "      <td>ham</td>\n",
       "      <td>i have a date on sunday with will</td>\n",
       "    </tr>\n",
       "    <tr>\n",
       "      <th>15</th>\n",
       "      <td>spam</td>\n",
       "      <td>xxxmobilemovieclub to use your credit click th...</td>\n",
       "    </tr>\n",
       "    <tr>\n",
       "      <th>18</th>\n",
       "      <td>ham</td>\n",
       "      <td>fine if thats the way u feel thats the way its...</td>\n",
       "    </tr>\n",
       "  </tbody>\n",
       "</table>\n",
       "</div>"
      ],
      "text/plain": [
       "   Category                                            Message\n",
       "0       ham  go until jurong point crazy available only in ...\n",
       "2      spam  free entry in  a wkly comp to win fa cup final...\n",
       "14      ham                  i have a date on sunday with will\n",
       "15     spam  xxxmobilemovieclub to use your credit click th...\n",
       "18      ham  fine if thats the way u feel thats the way its..."
      ]
     },
     "execution_count": 9,
     "metadata": {},
     "output_type": "execute_result"
    }
   ],
   "source": [
    "train_data = clean.sample(frac = 0.75, random_state = 1)\n",
    "test_data = clean.drop(train_data.index)\n",
    "test_data.head(5)"
   ]
  },
  {
   "cell_type": "markdown",
   "metadata": {},
   "source": [
    "<h3>4. Create a Word Frequency DataFrame</h3>"
   ]
  },
  {
   "cell_type": "code",
   "execution_count": 10,
   "metadata": {},
   "outputs": [],
   "source": [
    "words_present = {}\n",
    "for i in train_data.index:\n",
    "    for word in train_data.loc[i][\"Message\"].split():\n",
    "        if word not in words_present:\n",
    "            if train_data.loc[i][\"Category\"] == \"spam\":\n",
    "                words_present[word] = [1,0]\n",
    "            else:\n",
    "                words_present[word] = [0,1]\n",
    "        else:\n",
    "            if train_data.loc[i][\"Category\"] == \"spam\":\n",
    "                words_present[word][0]+=1\n",
    "            else:\n",
    "                words_present[word][1]+=1"
   ]
  },
  {
   "cell_type": "code",
   "execution_count": 11,
   "metadata": {},
   "outputs": [
    {
     "data": {
      "text/html": [
       "<div>\n",
       "<style scoped>\n",
       "    .dataframe tbody tr th:only-of-type {\n",
       "        vertical-align: middle;\n",
       "    }\n",
       "\n",
       "    .dataframe tbody tr th {\n",
       "        vertical-align: top;\n",
       "    }\n",
       "\n",
       "    .dataframe thead th {\n",
       "        text-align: right;\n",
       "    }\n",
       "</style>\n",
       "<table border=\"1\" class=\"dataframe\">\n",
       "  <thead>\n",
       "    <tr style=\"text-align: right;\">\n",
       "      <th></th>\n",
       "      <th>Word</th>\n",
       "      <th>#Spam</th>\n",
       "      <th>#Ham</th>\n",
       "    </tr>\n",
       "  </thead>\n",
       "  <tbody>\n",
       "    <tr>\n",
       "      <th>0</th>\n",
       "      <td>i</td>\n",
       "      <td>44</td>\n",
       "      <td>1608</td>\n",
       "    </tr>\n",
       "    <tr>\n",
       "      <th>1</th>\n",
       "      <td>you</td>\n",
       "      <td>221</td>\n",
       "      <td>1360</td>\n",
       "    </tr>\n",
       "    <tr>\n",
       "      <th>2</th>\n",
       "      <td>to</td>\n",
       "      <td>533</td>\n",
       "      <td>1152</td>\n",
       "    </tr>\n",
       "    <tr>\n",
       "      <th>3</th>\n",
       "      <td>the</td>\n",
       "      <td>155</td>\n",
       "      <td>819</td>\n",
       "    </tr>\n",
       "    <tr>\n",
       "      <th>4</th>\n",
       "      <td>a</td>\n",
       "      <td>298</td>\n",
       "      <td>782</td>\n",
       "    </tr>\n",
       "    <tr>\n",
       "      <th>...</th>\n",
       "      <td>...</td>\n",
       "      <td>...</td>\n",
       "      <td>...</td>\n",
       "    </tr>\n",
       "    <tr>\n",
       "      <th>7322</th>\n",
       "      <td>president</td>\n",
       "      <td>1</td>\n",
       "      <td>0</td>\n",
       "    </tr>\n",
       "    <tr>\n",
       "      <th>7323</th>\n",
       "      <td>accordingly</td>\n",
       "      <td>1</td>\n",
       "      <td>0</td>\n",
       "    </tr>\n",
       "    <tr>\n",
       "      <th>7324</th>\n",
       "      <td>stopsmsppm</td>\n",
       "      <td>1</td>\n",
       "      <td>0</td>\n",
       "    </tr>\n",
       "    <tr>\n",
       "      <th>7325</th>\n",
       "      <td>wwwtextcompcom</td>\n",
       "      <td>2</td>\n",
       "      <td>0</td>\n",
       "    </tr>\n",
       "    <tr>\n",
       "      <th>7326</th>\n",
       "      <td>getstop</td>\n",
       "      <td>1</td>\n",
       "      <td>0</td>\n",
       "    </tr>\n",
       "  </tbody>\n",
       "</table>\n",
       "<p>7327 rows × 3 columns</p>\n",
       "</div>"
      ],
      "text/plain": [
       "                Word  #Spam  #Ham\n",
       "0                  i     44  1608\n",
       "1                you    221  1360\n",
       "2                 to    533  1152\n",
       "3                the    155   819\n",
       "4                  a    298   782\n",
       "...              ...    ...   ...\n",
       "7322       president      1     0\n",
       "7323     accordingly      1     0\n",
       "7324      stopsmsppm      1     0\n",
       "7325  wwwtextcompcom      2     0\n",
       "7326         getstop      1     0\n",
       "\n",
       "[7327 rows x 3 columns]"
      ]
     },
     "execution_count": 11,
     "metadata": {},
     "output_type": "execute_result"
    }
   ],
   "source": [
    "word_freq = pd.DataFrame.from_dict(words_present).transpose()\\\n",
    "            .reset_index()\\\n",
    "            .rename(columns={0:\"#Spam\",1:\"#Ham\",\"index\":\"Word\"})\n",
    "word_freq = word_freq.sort_values(by='#Ham', ascending = False, ignore_index = True)\n",
    "word_freq"
   ]
  },
  {
   "cell_type": "markdown",
   "metadata": {},
   "source": [
    "<h3>5. Visualise the Data</h3>"
   ]
  },
  {
   "cell_type": "code",
   "execution_count": 12,
   "metadata": {},
   "outputs": [
    {
     "data": {
      "image/png": "[encoded data removed]",
      "text/plain": [
       "<Figure size 432x288 with 1 Axes>"
      ]
     },
     "metadata": {
      "needs_background": "light"
     },
     "output_type": "display_data"
    }
   ],
   "source": [
    "spam_freq = {}\n",
    "for row in word_freq.index:\n",
    "    spam_freq[word_freq.loc[row][\"Word\"]] = word_freq.loc[row][\"#Spam\"]\n",
    "wordcloud = wc() \n",
    "wordcloud.generate_from_frequencies(spam_freq)\n",
    "plt.figure() \n",
    "plt.imshow(wordcloud, interpolation = \"bilinear\") \n",
    "plt.axis(\"off\") \n",
    "plt.show()"
   ]
  },
  {
   "cell_type": "markdown",
   "metadata": {},
   "source": [
    "<h3>6.  Calculate $P\\left(E\\middle| S\\right)$ and $P\\left(E|\\lnot S\\right)$</h3>"
   ]
  },
  {
   "cell_type": "code",
   "execution_count": 13,
   "metadata": {},
   "outputs": [
    {
     "data": {
      "text/html": [
       "<div>\n",
       "<style scoped>\n",
       "    .dataframe tbody tr th:only-of-type {\n",
       "        vertical-align: middle;\n",
       "    }\n",
       "\n",
       "    .dataframe tbody tr th {\n",
       "        vertical-align: top;\n",
       "    }\n",
       "\n",
       "    .dataframe thead th {\n",
       "        text-align: right;\n",
       "    }\n",
       "</style>\n",
       "<table border=\"1\" class=\"dataframe\">\n",
       "  <thead>\n",
       "    <tr style=\"text-align: right;\">\n",
       "      <th></th>\n",
       "      <th>Word</th>\n",
       "      <th>P(E|S)</th>\n",
       "      <th>P(E|¬S)</th>\n",
       "    </tr>\n",
       "  </thead>\n",
       "  <tbody>\n",
       "    <tr>\n",
       "      <th>0</th>\n",
       "      <td>i</td>\n",
       "      <td>0.065104</td>\n",
       "      <td>0.316921</td>\n",
       "    </tr>\n",
       "    <tr>\n",
       "      <th>1</th>\n",
       "      <td>you</td>\n",
       "      <td>0.308160</td>\n",
       "      <td>0.267268</td>\n",
       "    </tr>\n",
       "    <tr>\n",
       "      <th>2</th>\n",
       "      <td>to</td>\n",
       "      <td>0.631076</td>\n",
       "      <td>0.249792</td>\n",
       "    </tr>\n",
       "    <tr>\n",
       "      <th>3</th>\n",
       "      <td>a</td>\n",
       "      <td>0.398438</td>\n",
       "      <td>0.178502</td>\n",
       "    </tr>\n",
       "    <tr>\n",
       "      <th>4</th>\n",
       "      <td>the</td>\n",
       "      <td>0.210938</td>\n",
       "      <td>0.174341</td>\n",
       "    </tr>\n",
       "    <tr>\n",
       "      <th>...</th>\n",
       "      <td>...</td>\n",
       "      <td>...</td>\n",
       "      <td>...</td>\n",
       "    </tr>\n",
       "    <tr>\n",
       "      <th>7322</th>\n",
       "      <td>onto</td>\n",
       "      <td>0.013021</td>\n",
       "      <td>0.000139</td>\n",
       "    </tr>\n",
       "    <tr>\n",
       "      <th>7323</th>\n",
       "      <td>national</td>\n",
       "      <td>0.018229</td>\n",
       "      <td>0.000139</td>\n",
       "    </tr>\n",
       "    <tr>\n",
       "      <th>7324</th>\n",
       "      <td>ppmsg</td>\n",
       "      <td>0.002604</td>\n",
       "      <td>0.000139</td>\n",
       "    </tr>\n",
       "    <tr>\n",
       "      <th>7325</th>\n",
       "      <td>sue</td>\n",
       "      <td>0.002604</td>\n",
       "      <td>0.000139</td>\n",
       "    </tr>\n",
       "    <tr>\n",
       "      <th>7326</th>\n",
       "      <td>getstop</td>\n",
       "      <td>0.002604</td>\n",
       "      <td>0.000139</td>\n",
       "    </tr>\n",
       "  </tbody>\n",
       "</table>\n",
       "<p>7327 rows × 3 columns</p>\n",
       "</div>"
      ],
      "text/plain": [
       "          Word    P(E|S)   P(E|¬S)\n",
       "0            i  0.065104  0.316921\n",
       "1          you  0.308160  0.267268\n",
       "2           to  0.631076  0.249792\n",
       "3            a  0.398438  0.178502\n",
       "4          the  0.210938  0.174341\n",
       "...        ...       ...       ...\n",
       "7322      onto  0.013021  0.000139\n",
       "7323  national  0.018229  0.000139\n",
       "7324     ppmsg  0.002604  0.000139\n",
       "7325       sue  0.002604  0.000139\n",
       "7326   getstop  0.002604  0.000139\n",
       "\n",
       "[7327 rows x 3 columns]"
      ]
     },
     "execution_count": 13,
     "metadata": {},
     "output_type": "execute_result"
    }
   ],
   "source": [
    "words_present = {}\n",
    "for i in train_data.index:\n",
    "    m = 0\n",
    "    for word in train_data.loc[i][\"Message\"].split():\n",
    "        m+=1\n",
    "        k = 0\n",
    "        n = 0\n",
    "        for j in train_data.loc[i][\"Message\"].split():\n",
    "            n += 1\n",
    "            if n < m:\n",
    "                continue\n",
    "            if (j == word):\n",
    "                k+=1\n",
    "        if(k > 1):\n",
    "            continue\n",
    "        if word not in words_present:\n",
    "            if train_data.loc[i][\"Category\"] == \"spam\":\n",
    "                words_present[word] = [1,0]\n",
    "            else:\n",
    "                words_present[word] = [0,1]\n",
    "        else:\n",
    "            if train_data.loc[i][\"Category\"] == \"spam\":\n",
    "                words_present[word][0]+=1\n",
    "            else:\n",
    "                words_present[word][1]+=1\n",
    "                \n",
    "word_prob = pd.DataFrame.from_dict(words_present).transpose()\\\n",
    "            .reset_index()\\\n",
    "            .rename(columns={0:\"P(E|S)\",1:\"P(E|¬S)\",\"index\":\"Word\"})\n",
    "word_prob = word_prob.sort_values(by='P(E|¬S)', ascending = False, ignore_index = True)\n",
    "\n",
    "tot_spam = 0\n",
    "tot_ham = 0\n",
    "for i in train_data.index:\n",
    "    if train_data.loc[i][\"Category\"] == \"spam\":\n",
    "        tot_spam +=1\n",
    "    else:\n",
    "        tot_ham +=1\n",
    "tot_spam = tot_spam + 1\n",
    "tot_ham = tot_ham + 1\n",
    "\n",
    "word_prob[\"P(E|S)\"] = (word_prob[\"P(E|S)\"] + 0.5)/tot_spam\n",
    "word_prob[\"P(E|¬S)\"] = (word_prob[\"P(E|¬S)\"] + 0.5)/tot_ham\n",
    "    \n",
    "word_prob "
   ]
  },
  {
   "cell_type": "markdown",
   "metadata": {},
   "source": [
    "<h3>7. Checking the 'spamliness' of a single word</h3>"
   ]
  },
  {
   "cell_type": "code",
   "execution_count": 14,
   "metadata": {},
   "outputs": [
    {
     "name": "stdout",
     "output_type": "stream",
     "text": [
      "Word =  arun\n",
      "P(E|S) =  0.000868\n",
      "P(E|¬S) =  0.000693\n",
      "P(S|E) = 0.06184538653366583\n",
      "P(¬S|E)= 0.9381546134663342\n"
     ]
    }
   ],
   "source": [
    "word = \"arun\"\n",
    "ps = 0.05\n",
    "p_not_s = 0.95\n",
    "pes = float(word_prob[\"P(E|S)\"].loc[word_prob['Word'] == word].to_string(index=False))\n",
    "pe_not_s = float(word_prob[\"P(E|¬S)\"].loc[word_prob['Word'] == word].to_string(index=False))\n",
    "pse = (pes*ps)/((pes*ps)+(pe_not_s*p_not_s))\n",
    "p_not_se = (pe_not_s*p_not_s)/((pes*ps)+(pe_not_s*p_not_s))\n",
    "print(\"Word = \",word)\n",
    "print(\"P(E|S) =\",word_prob[\"P(E|S)\"].loc[word_prob['Word'] == word].to_string(index=False))\n",
    "print(\"P(E|¬S) =\",word_prob[\"P(E|¬S)\"].loc[word_prob['Word'] == word].to_string(index=False))\n",
    "print(\"P(S|E) =\",pse)\n",
    "print(\"P(¬S|E)=\",p_not_se)\n"
   ]
  },
  {
   "cell_type": "markdown",
   "metadata": {},
   "source": [
    "<h3>8. Checking the 'spamliness' of several words</h3>"
   ]
  },
  {
   "cell_type": "code",
   "execution_count": 15,
   "metadata": {},
   "outputs": [],
   "source": [
    "prob_spam = []\n",
    "prob_ham = []\n",
    "k = 0\n",
    "message = \"Pooja what is this behaviour ?\"\n",
    "message = message.lower()\n",
    "message = message.split()\n",
    "for i in message:\n",
    "    for j in word_prob.index:\n",
    "        if(word_prob.loc[j][\"Word\"] == i):\n",
    "            pes = float(word_prob.loc[j][\"P(E|S)\"])\n",
    "            pe_not_s = float(word_prob.loc[j][\"P(E|¬S)\"])\n",
    "            pse = (pes*ps)/((pes*ps)+(pe_not_s*p_not_s))\n",
    "            p_not_se = (pe_not_s*p_not_s)/((pes*ps)+(pe_not_s*p_not_s))\n",
    "            prob_spam.append(pse)\n",
    "            prob_ham.append(p_not_se)\n",
    "            k += 1\n",
    "            break\n",
    "                 "
   ]
  },
  {
   "cell_type": "code",
   "execution_count": 16,
   "metadata": {},
   "outputs": [
    {
     "name": "stdout",
     "output_type": "stream",
     "text": [
      "Its not a spam message \n"
     ]
    }
   ],
   "source": [
    "spam_res = 1\n",
    "ham_res = 1\n",
    "for i in prob_spam:\n",
    "    spam_res = spam_res*i\n",
    "for i in prob_ham:\n",
    "    ham_res = ham_res*i\n",
    "if spam_res > ham_res:\n",
    "    print(\"Its a spam message\")\n",
    "else :\n",
    "    print(\"Its not a spam message \")"
   ]
  },
  {
   "cell_type": "markdown",
   "metadata": {},
   "source": [
    "<h3>9. Avoiding floating point underflow</h3>"
   ]
  },
  {
   "cell_type": "code",
   "execution_count": 17,
   "metadata": {},
   "outputs": [],
   "source": [
    "prob_spam = []\n",
    "prob_ham = []\n",
    "prob_spam.append(math.log(ps))\n",
    "prob_ham.append(math.log(p_not_s))\n",
    "message = \"Pooja what is this behaviour ?\"\n",
    "message = message.lower()\n",
    "message = message.split()\n",
    "for i in message:\n",
    "    for j in word_prob.index:\n",
    "        if(word_prob.loc[j][\"Word\"] == i):\n",
    "            pes = float(word_prob.loc[j][\"P(E|S)\"])\n",
    "            pe_not_s = float(word_prob.loc[j][\"P(E|¬S)\"])\n",
    "            prob_spam.append(math.log(pes))\n",
    "            prob_ham.append(math.log(pe_not_s))\n",
    "            break"
   ]
  },
  {
   "cell_type": "code",
   "execution_count": 18,
   "metadata": {},
   "outputs": [
    {
     "name": "stdout",
     "output_type": "stream",
     "text": [
      "Its not a spam message \n"
     ]
    }
   ],
   "source": [
    "spam_res = 0\n",
    "ham_res = 0\n",
    "for i in prob_spam:\n",
    "    spam_res = spam_res+i\n",
    "for i in prob_ham:\n",
    "    ham_res = ham_res+i\n",
    "if spam_res > ham_res:\n",
    "    print(\"Its a spam message\")\n",
    "else :\n",
    "    print(\"Its not a spam message \")"
   ]
  },
  {
   "cell_type": "markdown",
   "metadata": {},
   "source": [
    "<h3>10. Testing the Model</h3>"
   ]
  },
  {
   "cell_type": "code",
   "execution_count": 19,
   "metadata": {
    "scrolled": false
   },
   "outputs": [
    {
     "name": "stdout",
     "output_type": "stream",
     "text": [
      "match_spam =  170\n",
      "match_ham =  1155\n",
      "thought_ham_is_spam =  66\n",
      "thought_spam_is_ham =  2\n",
      "Accuracy:  0.9511844938980617\n"
     ]
    }
   ],
   "source": [
    "k = 0\n",
    "match_spam = 0\n",
    "match_ham = 0\n",
    "thought_ham_is_spam = 0\n",
    "thought_spam_is_ham = 0\n",
    "for mess in test_data.index:\n",
    "    k += 1\n",
    "    per = int((k/len(test_data))*100)\n",
    "    print(per ,\" % done\")\n",
    "    clear_output(wait=True)\n",
    "    prob_spam = []\n",
    "    prob_ham = []\n",
    "    prob_spam.append(math.log(ps))\n",
    "    prob_ham.append(math.log(p_not_s))\n",
    "    message = test_data.loc[mess][\"Message\"]\n",
    "    message = message.split()\n",
    "    for i in message:\n",
    "        for j in word_prob.index:\n",
    "            if(word_prob.loc[j][\"Word\"] == i):\n",
    "                pes = float(word_prob.loc[j][\"P(E|S)\"])\n",
    "                pe_not_s = float(word_prob.loc[j][\"P(E|¬S)\"])\n",
    "                prob_spam.append(math.log(pes))\n",
    "                prob_ham.append(math.log(pe_not_s))\n",
    "                break\n",
    "    spam_res = 0\n",
    "    ham_res = 0\n",
    "    for i in prob_spam:\n",
    "        spam_res = spam_res+i\n",
    "    for i in prob_ham:\n",
    "        ham_res = ham_res+i\n",
    "    if spam_res > ham_res:\n",
    "        if test_data.loc[mess][\"Category\"] == \"spam\":\n",
    "            match_spam += 1\n",
    "        else:\n",
    "            thought_ham_is_spam += 1\n",
    "        \n",
    "    else :\n",
    "        if test_data.loc[mess][\"Category\"] == \"ham\":\n",
    "            match_ham += 1\n",
    "        else:\n",
    "            thought_spam_is_ham += 1\n",
    "acc = ((match_spam+match_ham)/(match_spam+match_ham+thought_ham_is_spam+thought_spam_is_ham))\n",
    "print(\"match_spam = \", match_spam)\n",
    "print(\"match_ham = \", match_ham)\n",
    "print(\"thought_ham_is_spam = \",thought_ham_is_spam)\n",
    "print(\"thought_spam_is_ham = \",thought_spam_is_ham)\n",
    "print(\"Accuracy: \",acc)"
   ]
  },
  {
   "cell_type": "markdown",
   "metadata": {},
   "source": [
    "<h3>11. Improvements</h3>"
   ]
  },
  {
   "cell_type": "markdown",
   "metadata": {},
   "source": [
    "The accuracy of the can be improved by feeding more data for testing. Also we can consider checking for phases which repeatedly occur in spam messages. Spam messages usually contain phone numbers which can be used as a criteria for further classification."
   ]
  },
  {
   "cell_type": "code",
   "execution_count": null,
   "metadata": {},
   "outputs": [],
   "source": []
  }
 ],
 "metadata": {
  "kernelspec": {
   "display_name": "Python 3",
   "language": "python",
   "name": "python3"
  },
  "language_info": {
   "codemirror_mode": {
    "name": "ipython",
    "version": 3
   },
   "file_extension": ".py",
   "mimetype": "text/x-python",
   "name": "python",
   "nbconvert_exporter": "python",
   "pygments_lexer": "ipython3",
   "version": "3.8.1"
  }
 },
 "nbformat": 4,
 "nbformat_minor": 4
}
